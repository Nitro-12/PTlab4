{
  "nbformat": 4,
  "nbformat_minor": 0,
  "metadata": {
    "colab": {
      "provenance": []
    },
    "kernelspec": {
      "name": "python3",
      "display_name": "Python 3"
    },
    "language_info": {
      "name": "python"
    }
  },
  "cells": [
    {
      "cell_type": "markdown",
      "source": [
        "### Лабораторная работа № 4 по дисциплине \"Технологии программирования и ИСРСИИ\"\n",
        "### Задание по библиотеке NumPy\n",
        "\n",
        "**Цель работы:** Получить навыки выполнения векторных вычислений с использованием библиотеки NumPy.\n",
        "\n",
        "**Задача:** Задать исходные матрицы и векторы и в соответствии с индивидуальным вариантом вычислить заданные выражения.\n",
        "\n",
        "### Вариант №6 (Вариант №1)\n",
        "\n",
        "$$f = Tr(NM)p$$ $$g = \\sum_{i=0}^{85}\\mathbb{I}[i\\:mod\\:2 = 0](2p \\odot q)$$           \n"
      ],
      "metadata": {
        "id": "IFoohtJYhYgT"
      }
    },
    {
      "cell_type": "markdown",
      "source": [
        "Подключаем `numpy`:"
      ],
      "metadata": {
        "id": "kheTVvCgj82i"
      }
    },
    {
      "cell_type": "code",
      "source": [
        "import numpy as np"
      ],
      "metadata": {
        "id": "qkcB4fnBhSFk"
      },
      "execution_count": 39,
      "outputs": []
    },
    {
      "cell_type": "markdown",
      "source": [
        "<center>\n",
        "Пусть $\\mathcal{N}(a, \\sigma^2)$ — нормальное распределение с математическим ожиданием $a$ и дисперсией $\\sigma^2$.\n",
        "\n",
        "$\\mathbb{I}[\\beta(x)] = \\begin{cases} 1, & \\text{if } \\beta(x) = True \\\\ 0, & \\text{if } \\beta(x) = False \\end{cases}$ — индикаторная функция от некоторого предиката $\\beta(x)$.  \n",
        "\n",
        "$\\|\\mathbf{u}\\|_p = \\sqrt[p]{\\|\\mathbf{u}\\|^p}$ — $L_p$-норма вектора $\\mathbf{u}$, $\\odot$ — поэлементное произведение матриц/векторов,\n",
        "\n",
        "$\\text{Tr } \\mathbf{A}$ — след матрицы $\\mathbf{A}$.\n",
        "\n",
        "Требуется с помощью библиотеки Python NumPy создать следующие матрицы и векторы:\n",
        "</center>"
      ],
      "metadata": {
        "id": "G4NcQkteklhT"
      }
    },
    {
      "cell_type": "markdown",
      "source": [
        "$$M =\n",
        "\\begin{pmatrix}\n",
        "    3 & 2 & 2 & 2 & \\cdots & 2\\\\\n",
        "    2 & 5 & 2 & 2 & \\cdots & 2\\\\\n",
        "    2 & 2 & 7 & 2 & \\cdots & 2\\\\\n",
        "    \\vdots & \\vdots & \\vdots & \\vdots & \\ddots & \\vdots\\\\\n",
        "    2 & 2 & 2 & 2 & \\cdots & 171\n",
        "\\end{pmatrix},\n",
        "M \\in \\mathbb{N}^{85 \\times 85}\n",
        "$$"
      ],
      "metadata": {
        "id": "Xy0A6GnmhmUS"
      }
    },
    {
      "cell_type": "code",
      "execution_count": 40,
      "metadata": {
        "id": "uETtm0nBmumt"
      },
      "outputs": [],
      "source": [
        "# Создание матрицы M (85x85)\n",
        "# Матрица заполняется значением 2\n",
        "M = np.ones((85, 85)) * 2\n",
        "# Диагональные элементы задаются последовательностью нечетных чисел от 3 до 171 включительно\n",
        "np.fill_diagonal(M, np.arange(3, 172, 2))"
      ]
    },
    {
      "cell_type": "markdown",
      "source": [
        "$$N =\n",
        "\\begin{pmatrix}\n",
        "    4 & 4 & 5 & 4 & 4 & 5 & 4 & \\cdots\\\\\n",
        "    4 & 7 & 4 & 7 & 4 & 7 & 4 & \\cdots\\\\\n",
        "    4 & 4 & 5 & 4 & 4 & 5 & 4 & \\cdots\\\\\n",
        "    \\vdots & \\vdots & \\vdots & \\vdots & \\vdots & \\vdots & \\ddots & \\vdots\\\\\n",
        "    \\cdots & \\cdots & \\cdots & \\cdots & \\cdots & \\cdots & \\cdots & \\cdots\n",
        "\\end{pmatrix},\n",
        "N \\in \\mathbb{N}^{85 \\times 85}\n",
        "$$"
      ],
      "metadata": {
        "id": "zvFJc6Mdh-BT"
      }
    },
    {
      "cell_type": "code",
      "source": [
        "# Создание матрицы N (85x85)\n",
        "# Матрица заполняется значением 4\n",
        "N = np.ones((85, 85)) * 4\n",
        "# Каждая третья колонка в четных строках заполняется значением 5\n",
        "N[::2, 2::3] = 5\n",
        "# Нечетные столбцы в нечетных строках заполняются значением 7\n",
        "N[1::2, 1::2] = 7"
      ],
      "metadata": {
        "id": "qhGIdBH7h2Cf"
      },
      "execution_count": 41,
      "outputs": []
    },
    {
      "cell_type": "markdown",
      "source": [
        "$$p = \\{1 + p_i : p_i \\sim \\mathcal{N}(2,4)\\}_{i=0}^{84}$$"
      ],
      "metadata": {
        "id": "JceZPl2miFNz"
      }
    },
    {
      "cell_type": "code",
      "source": [
        "# Создание вектора p: элементы из нормального распределения N(2, 4)\n",
        "p = 1 + np.random.normal(2, 4, (85,))"
      ],
      "metadata": {
        "id": "Pb5O8nkSh34n"
      },
      "execution_count": 42,
      "outputs": []
    },
    {
      "cell_type": "markdown",
      "source": [
        "$$q^T = \\{N_{24,j} \\odot N_{71,j} \\}_{j=0}^{84}$$"
      ],
      "metadata": {
        "id": "gf8RMqksi175"
      }
    },
    {
      "cell_type": "code",
      "source": [
        "# Создание вектора q: покоординатное произведение строк 24 и 71 матрицы N\n",
        "q = N[24] * N[71]"
      ],
      "metadata": {
        "id": "-HnUNCqKiOnS"
      },
      "execution_count": 43,
      "outputs": []
    },
    {
      "cell_type": "markdown",
      "source": [
        "$$f = Tr(NM)p$$"
      ],
      "metadata": {
        "id": "VKHknS9viX0r"
      }
    },
    {
      "cell_type": "code",
      "source": [
        "# Вычисление f = Tr(NM) * sum(p)\n",
        "# Вычисление произведения матриц N и M\n",
        "NM = N @ M\n",
        "# Вычисление следа матрицы NM (суммы диагональных элементов)\n",
        "trace_NM = np.sum(np.diag(NM))\n",
        "# Умножение следа на сумму элементов вектора p\n",
        "f = trace_NM * np.sum(p)"
      ],
      "metadata": {
        "id": "v6Fd3a36i6Gw"
      },
      "execution_count": 44,
      "outputs": []
    },
    {
      "cell_type": "markdown",
      "source": [
        "$$g = \\sum_{i=0}^{85}\\mathbb{I}[i\\:mod\\:2 = 0](2p \\odot q)$$"
      ],
      "metadata": {
        "id": "HIowcwS1inrj"
      }
    },
    {
      "cell_type": "code",
      "source": [
        "# Вычисление g = sum_{i mod 2 = 0} (2p * q)_i\n",
        "# Покоординатное произведение 2p * q\n",
        "prod_p_q = 2 * p * q\n",
        "# Сумма элементов prod_p_q с четными индексами\n",
        "g = np.sum(prod_p_q[::2])"
      ],
      "metadata": {
        "id": "ScGr8bidijSU"
      },
      "execution_count": 45,
      "outputs": []
    },
    {
      "cell_type": "markdown",
      "source": [
        "#### Результаты f и g:"
      ],
      "metadata": {
        "id": "t8_ulb6VjHjh"
      }
    },
    {
      "cell_type": "code",
      "source": [
        "# Вывод результатов\n",
        "print(\"Результаты:\")\n",
        "print(f\"f = {f}\")\n",
        "print(f\"g = {g}\")"
      ],
      "metadata": {
        "colab": {
          "base_uri": "https://localhost:8080/"
        },
        "id": "b78P2QoxiluU",
        "outputId": "b9bb442d-7bcd-46a3-ea21-69e54b47ab48"
      },
      "execution_count": 46,
      "outputs": [
        {
          "output_type": "stream",
          "name": "stdout",
          "text": [
            "Результаты:\n",
            "f = 27311870.259457223\n",
            "g = 4191.564765777302\n"
          ]
        }
      ]
    },
    {
      "cell_type": "markdown",
      "source": [
        "### Выводы\n",
        "\n",
        "1. **Эффективность вычислений**:\n",
        "   - Использование NumPy позволило эффективно работать с матрицами и векторами, выполняя операции умножения и генерации случайных данных с высокой производительностью.\n",
        "\n",
        "2. **Корректность расчетов**:\n",
        "   - Все вычисления, включая произведение матриц, генерацию вектора \\( p \\) и расчет значений                                                               \n",
        "   \\( f \\) и \\( g \\), были выполнены корректно и дали ожидаемые результаты.\n",
        "\n",
        "3. **Простота реализации**:\n",
        "   - NumPy упростил реализацию алгоритма, предоставив удобные функции для работы с массивами и матрицами, что сделало решение задачи быстрым и понятным.\n",
        "\n",
        "4. **NumPy**\n",
        "    - NumPy ускоряет решение задач линейной алгебры и работы с данными, обеспечивая высокую эффективность и точность вычислений.\n"
      ],
      "metadata": {
        "id": "-5ouqSXCy6zO"
      }
    }
  ]
}